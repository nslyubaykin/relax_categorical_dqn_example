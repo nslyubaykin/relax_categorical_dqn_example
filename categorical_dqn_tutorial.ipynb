{
 "cells": [
  {
   "cell_type": "markdown",
   "id": "cfbf11bb",
   "metadata": {},
   "source": [
    "# Categorical DQN\n",
    "\n",
    "For ReLAx & Mujoco installation see: https://github.com/nslyubaykin/relax/blob/master/README.md\n",
    "\n",
    "Useful readings regarding Categorical DQN:\n",
    "\n",
    "- DQN paper: https://arxiv.org/pdf/1312.5602.pdf\n",
    "- Categorical DQN paper: https://arxiv.org/pdf/1707.06887.pdf\n",
    "\n",
    "!Note: For examining trained actor you may just load trained policies from \\trained_models directory. To do that instead of running 'Run Training and Validation loop' cell, just run 'Load Models' cell\n",
    "\n",
    "!Note: Trained policies, logs and videos are in the main repository of that notebook: https://github.com/nslyubaykin/relax_categorical_dqn_example"
   ]
  },
  {
   "cell_type": "code",
   "execution_count": 1,
   "id": "f78331dc",
   "metadata": {},
   "outputs": [
    {
     "name": "stderr",
     "output_type": "stream",
     "text": [
      "/home/nikita/.local/lib/python3.6/site-packages/tqdm/auto.py:22: TqdmWarning: IProgress not found. Please update jupyter and ipywidgets. See https://ipywidgets.readthedocs.io/en/stable/user_install.html\n",
      "  from .autonotebook import tqdm as notebook_tqdm\n"
     ]
    }
   ],
   "source": [
    "import gym\n",
    "import torch\n",
    "import numpy as np\n",
    "import matplotlib.pyplot as plt\n",
    "\n",
    "from tqdm import tqdm\n",
    "from inspect import getsource\n",
    "from torch.utils.tensorboard import SummaryWriter\n",
    "\n",
    "from relax.rl.critics import CategoricalDQN\n",
    "from relax.rl.actors import ArgmaxQValue\n",
    "\n",
    "from relax.zoo.critics import AtariDistributionalQCNN\n",
    "\n",
    "from relax.schedules import PiecewiseSchedule, LinearSchedule, CombinedSchedule, ConstantSchedule\n",
    "from relax.exploration import EpsilonGreedy\n",
    "\n",
    "from relax.gym.utils import get_wrapper_by_name, visualize_actor\n",
    "from relax.gym.wrappers.atari import *\n",
    "\n",
    "from relax.data.sampling import Sampler\n",
    "from relax.data.replay_buffer import ReplayBuffer"
   ]
  },
  {
   "cell_type": "markdown",
   "id": "ff9bf66c",
   "metadata": {},
   "source": [
    "# Constructing Distributional Discrete Deep Q-Network Critic\n",
    "\n",
    "Categorical DQN is a discrete action RL algorithm. That means that critic net is taking as an input an observations batch with a shape of (BATCH_SIZE, \\*obs.shape) (for Atari domain observation is a batch of stacked frames which then processed by CNN feature extractor) and outputting a a tensor of log probabilities with a shape (batch_size, acs_dim, n_atoms).\n",
    "\n",
    "!Note:\n",
    "            \n",
    "critic_net should have these attributes:\n",
    "\n",
    "- v_min - minimal support value of categorical distribution\n",
    "\n",
    "- v_max - maximal support value of categorical distribution\n",
    "\n",
    "- n_atoms - number of categorical distribution support elements\n",
    "\n",
    "- d_z - step of categorical distribution support =\n",
    "    (v_max-v_min)/(n_atoms-1)\n",
    "\n",
    "- support: torch.FloatTensor - categorical distribution support\n",
    "    which should be registered in model's buffer\n",
    "\n",
    "Therefore any custom user defined networks meeting this requirements should work well with `CategoricalDQN` critic\n",
    "\n",
    "So let's examine the default implementation of Categorical Atari Discrete Deep Q-Network Critic offered by ReLAx:"
   ]
  },
  {
   "cell_type": "code",
   "execution_count": 2,
   "id": "894e1f13",
   "metadata": {},
   "outputs": [
    {
     "name": "stdout",
     "output_type": "stream",
     "text": [
      "class AtariDistributionalQCNN(nn.Module):\n",
      "    \n",
      "    def __init__(self, in_channels, acs_dim,\n",
      "                 n_atoms, v_min, v_max):\n",
      "        \n",
      "        super(AtariDistributionalQCNN, self).__init__()\n",
      "        \n",
      "        # Categorical DQN specific params\n",
      "        self.n_atoms = n_atoms\n",
      "        self.v_min = v_min\n",
      "        self.v_max = v_max\n",
      "        self.d_z = (v_max-v_min)/(n_atoms-1)\n",
      "        self.register_buffer('support', torch.Tensor(n_atoms))\n",
      "        self.support.data.copy_(\n",
      "            torch.tensor(\n",
      "                [v_min + i*self.d_z for i in range(n_atoms)]\n",
      "            )\n",
      "        )\n",
      "\n",
      "        self.acs_dim = acs_dim\n",
      "        \n",
      "        self.net = nn.Sequential(\n",
      "            PreprocessImg(),\n",
      "            nn.Conv2d(in_channels=in_channels, out_channels=32, kernel_size=8, stride=4),\n",
      "            nn.ReLU(),\n",
      "            nn.Conv2d(in_channels=32, out_channels=64, kernel_size=4, stride=2),\n",
      "            nn.ReLU(),\n",
      "            nn.Conv2d(in_channels=64, out_channels=64, kernel_size=3, stride=1),\n",
      "            nn.ReLU(),\n",
      "            nn.Flatten(),\n",
      "            nn.Linear(3136, 512),  # 3136 hard-coded based on img size + CNN layers\n",
      "            nn.ReLU(),\n",
      "            nn.Linear(512, acs_dim * n_atoms),\n",
      "        )\n",
      "        \n",
      "    def forward(self, x: torch.FloatTensor) -> torch.FloatTensor:        \n",
      "        out = self.net(x)\n",
      "        logits = out.view(-1, self.acs_dim, self.n_atoms)\n",
      "        log_probs = F.log_softmax(logits, dim=-1)\n",
      "        return log_probs\n",
      "\n"
     ]
    }
   ],
   "source": [
    "print(getsource(AtariDistributionalQCNN))"
   ]
  },
  {
   "cell_type": "markdown",
   "id": "3baffda0",
   "metadata": {},
   "source": [
    "# Constructing ArgmaxQValue actor\n",
    "\n",
    "DQN uses a greedy non-parametric actor which simply selects an action with the biggest Q-value estimated by DQN critc"
   ]
  },
  {
   "cell_type": "markdown",
   "id": "a1107160",
   "metadata": {},
   "source": [
    "# Define Schedules for Training:\n",
    "\n",
    "Our Categorical DQN actor will not learn for the first 50k iterations. (Told to actor by passing 0 learning rate for the first 50k iterations)\n",
    "\n",
    "And it will also conduct maximum exploration during that phase to collect initial random training data.\n",
    "\n",
    "*!Note: we will construct our exploration schedule to be 30m timestamps long, however, for the time-saving purpose, we will run demonstration training only for 3m steps. In papers, DQN and its augmentations are trained for 200m steps, which may require several days of learning.*"
   ]
  },
  {
   "cell_type": "code",
   "execution_count": 3,
   "id": "c52a375f",
   "metadata": {},
   "outputs": [
    {
     "data": {
      "image/png": "[encoded data removed]",
      "text/plain": [
       "<Figure size 432x288 with 1 Axes>"
      ]
     },
     "metadata": {
      "needs_background": "light"
     },
     "output_type": "display_data"
    }
   ],
   "source": [
    "lr_schedule = PiecewiseSchedule({0: 50000}, 1e-4)\n",
    "lr_schedule.plot(int(1e6))"
   ]
  },
  {
   "cell_type": "code",
   "execution_count": 4,
   "id": "ab052675",
   "metadata": {},
   "outputs": [
    {
     "data": {
      "image/png": "[encoded data removed]",
      "text/plain": [
       "<Figure size 432x288 with 1 Axes>"
      ]
     },
     "metadata": {
      "needs_background": "light"
     },
     "output_type": "display_data"
    }
   ],
   "source": [
    "schedule1 = ConstantSchedule(1)\n",
    "schedule2 = LinearSchedule(1.04, 0, 1200000)\n",
    "schedule1 = CombinedSchedule(schedule1, schedule2, min)\n",
    "schedule2 = LinearSchedule(0.1, 0, 25000000)\n",
    "eps_schedule = CombinedSchedule(schedule1, schedule2, max)\n",
    "eps_schedule.plot(int(3e7))"
   ]
  },
  {
   "cell_type": "markdown",
   "id": "1301e0fa",
   "metadata": {},
   "source": [
    "# Create training and eval environments"
   ]
  },
  {
   "cell_type": "markdown",
   "id": "e50bf275",
   "metadata": {},
   "source": [
    "On practice, when training DQN on Atari 2600 domain, algorithm is not fed with raw environment observations, instead several wrappers are applied:\n",
    "\n",
    "1) EpisodicLifeEnv - make end-of-life == end-of-episode, but only reset on true game over. Done by DeepMind for the DQN and co. since it helps value estimation\n",
    "\n",
    "2) NoopResetEnv - Sample initial states by taking random number of no-ops on reset. No-op is assumed to be action 0.\n",
    "\n",
    "3) MaxAndSkipEnv - Return only every skip-th frame and do max-pooling over most recent two observations\n",
    "\n",
    "4) FireResetEnv - Take action on reset for environments that are fixed until firing.\n",
    "\n",
    "5) ProcessFrame84 - Crop valid region of an observation, convert to grayscale, resize to 84x84. Cast to uint8 dtype for lower memory usage.\n",
    "\n",
    "6) ClipRewardEnv - Bin reward to {+1, 0, -1} by its sign."
   ]
  },
  {
   "cell_type": "code",
   "execution_count": 5,
   "id": "ff483d93",
   "metadata": {},
   "outputs": [],
   "source": [
    "def makeenv(env_name, hcrop, hstretch, seed):\n",
    "    \n",
    "    env = gym.make(env_name)\n",
    "    ob_unwrap = env.reset()\n",
    "    \n",
    "    env = gym.wrappers.Monitor(\n",
    "        env,\n",
    "        'monitor_train_logs',\n",
    "        force=True,\n",
    "        video_callable=None,\n",
    "    )\n",
    "    \n",
    "    env = wrap_deepmind(\n",
    "        env, \n",
    "        skip=4,\n",
    "        hcrop=hcrop, \n",
    "        hstretch=hstretch\n",
    "    )\n",
    "    \n",
    "    env.seed(seed)\n",
    "    \n",
    "    ob = env.reset()\n",
    "    \n",
    "    return env, ob_unwrap, ob "
   ]
  },
  {
   "cell_type": "code",
   "execution_count": 6,
   "id": "80977322",
   "metadata": {},
   "outputs": [
    {
     "name": "stdout",
     "output_type": "stream",
     "text": [
      "(210, 160, 3) (84, 84, 1)\n"
     ]
    }
   ],
   "source": [
    "env_name = 'Breakout-v0'\n",
    "\n",
    "# Capture game region by adjusting these params:\n",
    "hcrop=13 # skip n top lines of pixels\n",
    "hstretch=100 # compression of vertical dimention from 210 -> hstretch (should be > than hcrop+84)\n",
    "\n",
    "env, ob_unwrap, ob = makeenv(\n",
    "    env_name=env_name, hcrop=hcrop, \n",
    "    hstretch=hstretch, seed=12\n",
    ")\n",
    "\n",
    "eval_env, _, _ = makeenv(\n",
    "    env_name=env_name, hcrop=hcrop, \n",
    "    hstretch=hstretch, seed=27\n",
    ")\n",
    "\n",
    "\n",
    "print(ob_unwrap.shape, ob.shape)"
   ]
  },
  {
   "cell_type": "code",
   "execution_count": 7,
   "id": "507de0bd",
   "metadata": {},
   "outputs": [
    {
     "data": {
      "image/png": "[encoded data removed]",
      "text/plain": [
       "<Figure size 432x288 with 2 Axes>"
      ]
     },
     "metadata": {
      "needs_background": "light"
     },
     "output_type": "display_data"
    }
   ],
   "source": [
    "# Visualize raw and wrapped environment:\n",
    "plt.subplot(1, 2, 1)\n",
    "plt.imshow(ob_unwrap)\n",
    "plt.title('Raw env')\n",
    "plt.subplot(1, 2, 2)\n",
    "plt.imshow(ob.squeeze(), cmap='gray')\n",
    "plt.title('Wrapped env')\n",
    "plt.show()"
   ]
  },
  {
   "cell_type": "code",
   "execution_count": 8,
   "id": "378d0f15",
   "metadata": {},
   "outputs": [
    {
     "data": {
      "text/plain": [
       "Discrete(4)"
      ]
     },
     "execution_count": 8,
     "metadata": {},
     "output_type": "execute_result"
    }
   ],
   "source": [
    "env.action_space"
   ]
  },
  {
   "cell_type": "code",
   "execution_count": 9,
   "id": "6dc2b8a1",
   "metadata": {},
   "outputs": [],
   "source": [
    "acs_dim = 4"
   ]
  },
  {
   "cell_type": "markdown",
   "id": "41fb8949",
   "metadata": {},
   "source": [
    "#  Set Up Exploration\n",
    "\n",
    "Categorical DQN uses $\\epsilon$-greedy exploration strategy which means that with $\\epsilon$ probability random action is taken instead of Q-function maximizing one. $\\epsilon$ is typically annealed over the course of training."
   ]
  },
  {
   "cell_type": "code",
   "execution_count": 10,
   "id": "fae09e70",
   "metadata": {},
   "outputs": [],
   "source": [
    "exploration = EpsilonGreedy(eps=eps_schedule)"
   ]
  },
  {
   "cell_type": "markdown",
   "id": "8519087e",
   "metadata": {},
   "source": [
    "# Define ArgmaxQValue actor"
   ]
  },
  {
   "cell_type": "code",
   "execution_count": 11,
   "id": "d2318887",
   "metadata": {},
   "outputs": [],
   "source": [
    "actor = ArgmaxQValue(\n",
    "        exploration=exploration\n",
    ")"
   ]
  },
  {
   "cell_type": "markdown",
   "id": "a3eb21f0",
   "metadata": {},
   "source": [
    "# Define CategoricalDQN critic:\n",
    "\n",
    "!Note: Atari 2600 environments often have some blinking visual elements, that is why observation may miss some details due to the blinking period, therefore introducing *partial observability*. To counteract this, critic network receives a stack of a current frame and 3 most recent lags. By doing so, critic, in theory, should be able to reconstruct actual state from frames history.\n",
    "\n",
    "ReLAx offers a simple interface to use lagged observations by specifying the following args:\n",
    "\n",
    "`obs_nlags`: int - specify the number of lags in addition to current observation\n",
    "\n",
    "`obs_expand_axis`: int or None - if not None, creates an extra dimension in observation array to concat along, if needed\n",
    "\n",
    "`obs_concat_axis`: int - axis to concatenate lags along\n",
    "\n",
    "`obs_padding`: str - ('zeros', 'first') value to pad starting observations with.\n",
    "\n",
    "Observation shape of the observations returned by DeepMind environment wrapper is (84, 84, 1) so, by specifying:\n",
    "\n",
    "`obs_nlags`=3\n",
    "\n",
    "`obs_expand_axis`=None\n",
    "\n",
    "`obs_concat_axis`=-1\n",
    "\n",
    "`obs_padding=`'zeros'\n",
    "\n",
    "We end up with a stacked lagged observation with a shape (84, 84, 4)"
   ]
  },
  {
   "cell_type": "code",
   "execution_count": 12,
   "id": "5f9ed791",
   "metadata": {},
   "outputs": [],
   "source": [
    "critic = CategoricalDQN( # Categorical DQN\n",
    "    critic_net=AtariDistributionalQCNN( # Categorical DQN\n",
    "        in_channels=4, # 1 current frame + 3 recent lags\n",
    "        acs_dim=acs_dim,\n",
    "        n_atoms=51,\n",
    "        v_min=-10,\n",
    "        v_max=10\n",
    "    ),\n",
    "    device=torch.device('cuda'),\n",
    "    learning_rate=lr_schedule,\n",
    "    batch_size=32,\n",
    "    gamma=0.99,\n",
    "    target_updates_freq=10000,\n",
    "    n_steps_per_update=1,\n",
    "    update_freq=4,\n",
    "    double_q=False,\n",
    "    obs_nlags=3,\n",
    "    obs_expand_axis=None,\n",
    "    obs_concat_axis=-1,\n",
    "    obs_padding='zeros'\n",
    ")"
   ]
  },
  {
   "cell_type": "markdown",
   "id": "9896a2ef",
   "metadata": {},
   "source": [
    "# Provide actor with critic:"
   ]
  },
  {
   "cell_type": "code",
   "execution_count": 13,
   "id": "28fabc7c",
   "metadata": {},
   "outputs": [],
   "source": [
    "actor.set_critic(critic)"
   ]
  },
  {
   "cell_type": "markdown",
   "id": "0073e359",
   "metadata": {},
   "source": [
    "# Wrap envs into Sampler:\n",
    "\n",
    "!Note: As we are using lags as an input to critic (and actor is using critic to select actions), our sampler also should accumulate lags to ensure correct input on a sampling phase. To make Sampler use lags, you should provide it with the same set of args:\n",
    "\n",
    "`obs_nlags`: int - specify the number of lags in addition to current observation\n",
    "\n",
    "`obs_expand_axis`: int or None - if not None, creates an extra dimension in observation array to concat along, if needed\n",
    "\n",
    "`obs_concat_axis`: int - axis to concatenate lags along\n",
    "\n",
    "`obs_padding`: str - ('zeros', 'first') value to pad starting observations with."
   ]
  },
  {
   "cell_type": "code",
   "execution_count": 14,
   "id": "4ca4c36f",
   "metadata": {},
   "outputs": [],
   "source": [
    "sampler = Sampler(env=env,\n",
    "                  obs_nlags=3,\n",
    "                  obs_expand_axis=None,\n",
    "                  obs_concat_axis=-1,\n",
    "                  obs_padding='zeros')\n",
    "\n",
    "eval_sampler = Sampler(env=eval_env,\n",
    "                       obs_nlags=3,\n",
    "                       obs_expand_axis=None,\n",
    "                       obs_concat_axis=-1,\n",
    "                       obs_padding='zeros')"
   ]
  },
  {
   "cell_type": "markdown",
   "id": "d1628bb9",
   "metadata": {},
   "source": [
    "# Create replay buffer\n",
    "\n",
    "!Note: ReplayBuffer is designed not to store lags explicitly (and not to store next states also) that is why the number of lags will not affect the amount of RAM used. However, as it still has to store 1m experience history and each observation is an array of shape (84, 84, 1) with a dtype uint8, the total amount of RAM usage by ReplayBuffer $ \\approx $ 10^6 \\* 84 \\* 84 bytes ~= 7 gigabytes. In total, DQN training requires $ \\approx $ 9-10 gigabytes of RAM. If your machine does not have enough RAM - consider decreasing buffer size."
   ]
  },
  {
   "cell_type": "code",
   "execution_count": 15,
   "id": "38793b37",
   "metadata": {},
   "outputs": [],
   "source": [
    "replay_buffer = ReplayBuffer(int(1e+6))"
   ]
  },
  {
   "cell_type": "markdown",
   "id": "5a363bcb",
   "metadata": {},
   "source": [
    "# Visualize untrained actor"
   ]
  },
  {
   "cell_type": "code",
   "execution_count": 16,
   "id": "1ba08d72",
   "metadata": {},
   "outputs": [
    {
     "name": "stdout",
     "output_type": "stream",
     "text": [
      "Simulation done, total reward: 0.0\n",
      "Loading video...\n"
     ]
    },
    {
     "data": {
      "text/html": [
       "<video alt=\"test\" autoplay \n",
       "                    loop controls style=\"height: 400px;\">\n",
       "                    <source src=\"data:video/mp4;base64,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\" type=\"video/mp4\" />\n",
       "                 </video>"
      ],
      "text/plain": [
       "<IPython.core.display.HTML object>"
      ]
     },
     "metadata": {},
     "output_type": "display_data"
    }
   ],
   "source": [
    "visualize_actor(env=eval_env, actor=actor, nsteps=1000, train_sampling=False)"
   ]
  },
  {
   "cell_type": "markdown",
   "id": "5521a071",
   "metadata": {},
   "source": [
    "# Run Training and Validation loop:\n",
    "\n",
    "!Note: we have constructed our exploration schedule to be 30m timestamps long, however, for the time-saving purpose, we will run demonstration training only for 3m steps. In papers, DQN and its augmentations are trained for 200m steps, which may require several days of learning."
   ]
  },
  {
   "cell_type": "code",
   "execution_count": 18,
   "id": "cf675b2b",
   "metadata": {},
   "outputs": [
    {
     "name": "stderr",
     "output_type": "stream",
     "text": [
      "100%|██████████| 3000000/3000000 [6:48:39<00:00, 122.35it/s]  \n"
     ]
    }
   ],
   "source": [
    "log_every = 50000\n",
    "n_steps = 3000000\n",
    "logdir = '/home/nikita/Desktop/RelaxExamples/Categorical_DQN/tensorboard_logs'\n",
    "run_name = f'categorical_dqn_{env_name}'\n",
    "logger = SummaryWriter(log_dir=f'{logdir}/{run_name}')\n",
    "all_logs = []\n",
    "\n",
    "for step in tqdm(range(n_steps)): # \n",
    "    \n",
    "    # sample training batch\n",
    "    unit_pathlist = sampler.sample(actor=actor,\n",
    "                                   n_transitions=1,\n",
    "                                   max_path_length=None, \n",
    "                                   reset_when_not_done=False,\n",
    "                                   train_sampling=True)\n",
    "    \n",
    "    # add transitions to replay buffer\n",
    "    replay_buffer.add_paths(unit_pathlist)\n",
    "    \n",
    "    # update critic\n",
    "    critic_logs = critic.update(replay_buffer)\n",
    "        \n",
    "    # update actor\n",
    "    actor_logs = actor.update(replay_buffer)\n",
    "    \n",
    "    if step % log_every == 0 and step > 0:\n",
    "        \n",
    "        # add unwrapped reward logs\n",
    "        mean_unwr_train = np.mean(get_wrapper_by_name(env, 'Monitor').get_episode_rewards()[-20:])\n",
    "        unwr_rews = {'average_train_unwr_rews': mean_unwr_train}\n",
    "        \n",
    "        # create logs of buffer\n",
    "        buffer_logs = replay_buffer.create_logs(prefix='buffer')\n",
    "\n",
    "        logs = {**critic_logs,\n",
    "                **actor_logs,\n",
    "                **buffer_logs,\n",
    "                **unwr_rews}\n",
    "        all_logs.append(logs)\n",
    "        \n",
    "        for key, value in logs.items():\n",
    "            logger.add_scalar(key, value, step)\n",
    "    \n",
    "logger.flush()"
   ]
  },
  {
   "cell_type": "code",
   "execution_count": 17,
   "id": "d3b0dee7",
   "metadata": {},
   "outputs": [
    {
     "data": {
      "text/html": [
       "\n",
       "      <iframe id=\"tensorboard-frame-5f57613b27d65135\" width=\"100%\" height=\"800\" frameborder=\"0\">\n",
       "      </iframe>\n",
       "      <script>\n",
       "        (function() {\n",
       "          const frame = document.getElementById(\"tensorboard-frame-5f57613b27d65135\");\n",
       "          const url = new URL(\"/\", window.location);\n",
       "          const port = 6008;\n",
       "          if (port) {\n",
       "            url.port = port;\n",
       "          }\n",
       "          frame.src = url;\n",
       "        })();\n",
       "      </script>\n",
       "    "
      ],
      "text/plain": [
       "<IPython.core.display.HTML object>"
      ]
     },
     "metadata": {},
     "output_type": "display_data"
    }
   ],
   "source": [
    "%load_ext tensorboard\n",
    "%tensorboard --logdir /home/nikita/Desktop/RelaxExamples/Categorical_DQN/tensorboard_logs"
   ]
  },
  {
   "cell_type": "markdown",
   "id": "f9c5ed3c",
   "metadata": {},
   "source": [
    "# Plot learning curve"
   ]
  },
  {
   "cell_type": "code",
   "execution_count": 19,
   "id": "d36c25e4",
   "metadata": {},
   "outputs": [
    {
     "data": {
      "image/png": "[encoded data removed]",
      "text/plain": [
       "<Figure size 432x288 with 1 Axes>"
      ]
     },
     "metadata": {
      "needs_background": "light"
     },
     "output_type": "display_data"
    }
   ],
   "source": [
    "eval_score = [l['average_train_unwr_rews'] for l in all_logs]\n",
    "plt.plot(eval_score)\n",
    "plt.title(f'Learning curve for {env_name}')\n",
    "plt.xlabel('Training step')\n",
    "plt.ylabel('Avg. return')\n",
    "plt.show()"
   ]
  },
  {
   "cell_type": "markdown",
   "id": "d56bd690",
   "metadata": {},
   "source": [
    "# Plot estimated vs actual Q-values"
   ]
  },
  {
   "cell_type": "code",
   "execution_count": 20,
   "id": "0117e017",
   "metadata": {},
   "outputs": [
    {
     "name": "stdout",
     "output_type": "stream",
     "text": [
      "('avg_return', 4.4)\n",
      "('std_return', 5.1613951602255765)\n",
      "('max_return', 19.0)\n",
      "('min_return', 0.0)\n",
      "('mean_pathlen', 57.6)\n",
      "('n_paths', 10)\n",
      "('n_transitions', 576)\n"
     ]
    },
    {
     "data": {
      "image/png": "[encoded data removed]",
      "text/plain": [
       "<Figure size 432x288 with 1 Axes>"
      ]
     },
     "metadata": {
      "needs_background": "light"
     },
     "output_type": "display_data"
    }
   ],
   "source": [
    "batch = eval_sampler.sample_n_episodes(actor=actor,\n",
    "                                       n_episodes=10,\n",
    "                                       max_path_length=None, \n",
    "                                       train_sampling=False)\n",
    "\n",
    "print(*batch.create_logs().items(), sep='\\n')\n",
    "\n",
    "batch.add_disc_cumsum(cumsum_field='q_vals', field='rews', gamma=0.99)\n",
    "data_q_values = batch.unpack(['q_vals'])\n",
    "\n",
    "model_q_values = critic.estimate_qvalue(batch)\n",
    "\n",
    "plt.hexbin(data_q_values, model_q_values, bins=50, cmap=plt.cm.Blues)\n",
    "plt.title('Data Q-values vs Critic Q-values')\n",
    "plt.xlabel('Data Q-values')\n",
    "plt.ylabel('Critic Q-values')\n",
    "plt.show()"
   ]
  },
  {
   "cell_type": "markdown",
   "id": "1a4ea1b7",
   "metadata": {},
   "source": [
    "# Visualize trained actor"
   ]
  },
  {
   "cell_type": "code",
   "execution_count": 21,
   "id": "3cccc38c",
   "metadata": {},
   "outputs": [
    {
     "name": "stdout",
     "output_type": "stream",
     "text": [
      "Simulation done, total reward: 6.0\n",
      "Loading video...\n"
     ]
    },
    {
     "data": {
      "text/html": [
       "<video alt=\"test\" autoplay \n",
       "                    loop controls style=\"height: 400px;\">\n",
       "                    <source src=\"data:video/mp4;base64,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\" type=\"video/mp4\" />\n",
       "                 </video>"
      ],
      "text/plain": [
       "<IPython.core.display.HTML object>"
      ]
     },
     "metadata": {},
     "output_type": "display_data"
    }
   ],
   "source": [
    "visualize_actor(env=eval_env, actor=actor, nsteps=1000, train_sampling=False)"
   ]
  },
  {
   "cell_type": "markdown",
   "id": "e32d683c",
   "metadata": {},
   "source": [
    "# Save Models"
   ]
  },
  {
   "cell_type": "code",
   "execution_count": 22,
   "id": "67872fd6",
   "metadata": {
    "scrolled": true
   },
   "outputs": [
    {
     "name": "stdout",
     "output_type": "stream",
     "text": [
      "Saved checkpoints for ArgmaxQValue...\n",
      "exploration_global_step global_step\n",
      "Saved checkpoints for CategoricalDQN...\n",
      "models_state_dict global_step local_step n_updates n_target_updates optimizer scheduler\n"
     ]
    },
    {
     "name": "stderr",
     "output_type": "stream",
     "text": [
      "/home/nikita/.local/lib/python3.6/site-packages/torch/optim/lr_scheduler.py:200: UserWarning: Please also save or load the state of the optimzer when saving or loading the scheduler.\n",
      "  warnings.warn(SAVE_STATE_WARNING, UserWarning)\n"
     ]
    }
   ],
   "source": [
    "actor.save_checkpoint('trained_models', 'argmax_q_value_actor')\n",
    "critic.save_checkpoint('trained_models', 'categorical_dqn_critic')"
   ]
  },
  {
   "cell_type": "markdown",
   "id": "31e0a904",
   "metadata": {},
   "source": [
    "# Load Models"
   ]
  },
  {
   "cell_type": "code",
   "execution_count": null,
   "id": "12804137",
   "metadata": {},
   "outputs": [],
   "source": [
    "actor.load_checkpoint('trained_models', 'argmax_q_value_actor')\n",
    "critic.load_checkpoint('trained_models', 'categorical_dqn_critic')"
   ]
  }
 ],
 "metadata": {
  "kernelspec": {
   "display_name": "Python Relax",
   "language": "python",
   "name": "relax"
  },
  "language_info": {
   "codemirror_mode": {
    "name": "ipython",
    "version": 3
   },
   "file_extension": ".py",
   "mimetype": "text/x-python",
   "name": "python",
   "nbconvert_exporter": "python",
   "pygments_lexer": "ipython3",
   "version": "3.6.13"
  }
 },
 "nbformat": 4,
 "nbformat_minor": 5
}
